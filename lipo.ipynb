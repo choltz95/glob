{
  "nbformat": 4,
  "nbformat_minor": 0,
  "metadata": {
    "colab": {
      "name": "lipo.ipynb",
      "version": "0.3.2",
      "views": {},
      "default_view": {},
      "provenance": [],
      "collapsed_sections": [],
      "toc_visible": true
    },
    "kernelspec": {
      "name": "python3",
      "display_name": "Python 3"
    }
  },
  "cells": [
    {
      "metadata": {
        "id": "tKXT8A4KdccF",
        "colab_type": "text"
      },
      "cell_type": "markdown",
      "source": [
        "# Blackbox Optimization with LIPO"
      ]
    },
    {
      "metadata": {
        "id": "Qa7Oj0usbFGg",
        "colab_type": "code",
        "colab": {
          "autoexec": {
            "startup": false,
            "wait_interval": 0
          },
          "output_extras": [
            {
              "item_id": 1
            }
          ],
          "base_uri": "https://localhost:8080/",
          "height": 35
        },
        "outputId": "acc0e73f-9e16-48f1-bdea-90b75d828f44",
        "executionInfo": {
          "status": "ok",
          "timestamp": 1519087727152,
          "user_tz": 480,
          "elapsed": 419,
          "user": {
            "displayName": "Chester Holtz",
            "photoUrl": "https://lh3.googleusercontent.com/a/default-user=s128",
            "userId": "115263811033248709415"
          }
        }
      },
      "cell_type": "code",
      "source": [
        "import numpy as np\n",
        "from numpy.random import uniform\n",
        "from numpy.linalg import norm\n",
        "np.random.seed(123)\n",
        "\n",
        "%matplotlib inline\n",
        "import matplotlib.pyplot as plt\n",
        "plt.set_cmap(\"viridis\")"
      ],
      "execution_count": 3,
      "outputs": [
        {
          "output_type": "display_data",
          "data": {
            "text/plain": [
              "<matplotlib.figure.Figure at 0x7f018bfbd278>"
            ]
          },
          "metadata": {
            "tags": []
          }
        }
      ]
    },
    {
      "metadata": {
        "id": "BepxTkoqkqZ0",
        "colab_type": "text"
      },
      "cell_type": "markdown",
      "source": [
        "## Introduction\n",
        "Blackbox-optimization is often carried out using an exhaustive exploration over the space of feasible variable configurations or by building a probabilistic model of the object and optimizing a simpler proxy. In the case of grid search, the optimization process often results in a very time consuming operation - while Baysian optimization requires careful setting of the hyperparameters and a well chosen prior to converge to an acceptable result. Often times simple random search preforms comparably to these more sophisticated and technical approaches while being much cheaper! In the recent paper [Global Optimization of Lipschitz Functions](https://arxiv.org/abs/1703.02628), the authors Cedric Malherbe and Nicolas Vayatis propose a simple gradient and parameter-free global optimizer. They examine a very simple algorithm called LIPO to jointly approximate the Lipschitz constant of a function and learn a piecewise linear upperbound based on the approximated constant.\n",
        "\n",
        "They derive several nice theoretical properties, but the most important one in my opinion is that their algorithm is superior to random search in several cases. They also empirically demonstrate that their algorithm performs comparably to other popular black box optimizers like Baysian Optimization.\n",
        "\n",
        "In this notebook, we will describe the algorithm and background and illustrate the effectveness of this algorithm on problems like hyperparameter tuning."
      ]
    },
    {
      "metadata": {
        "id": "0kdXOfnWkwG6",
        "colab_type": "text"
      },
      "cell_type": "markdown",
      "source": [
        "## Problem Statement\n",
        "We are interested in solving\n",
        "$$\n",
        "x^* = \\arg \\min_x f(x)\n",
        "$$\n",
        "under the constraints that\n",
        "* $f$ is a black box for which no closed form is known (nor its gradients)\n",
        "* $f$ may be expensive to evaluate and the samples are noisless\n",
        "* $f$ has finite Lipschitz constant $k$ i.e. $$\\exists k \\geq 0 \\text{ s.t. } |f(x) - f(x')| \\leq k \\cdot ||x - x'||_2 \\:\\: \\forall(x,x') \\in \\chi^2$$\n"
      ]
    },
    {
      "metadata": {
        "id": "LgRLvzR8s7qa",
        "colab_type": "text"
      },
      "cell_type": "markdown",
      "source": [
        "Assume the following noisy function $f(x) = \\sin(5 \\cdot x)\\cdot \\tanh(1 - x^2) + \\epsilon$.\n",
        "\n",
        "By MVT, $|f(x) - f(y)| \\leq \\sup |f'(x)||x-y|$. Since $\\sup |f'(x)| \\approx 5$, so $k \\approx 5$.\n"
      ]
    },
    {
      "metadata": {
        "id": "pjuuibk3dO9e",
        "colab_type": "code",
        "colab": {
          "autoexec": {
            "startup": false,
            "wait_interval": 0
          }
        }
      },
      "cell_type": "code",
      "source": [
        "noise_level = 0.1\n",
        "k = 5\n",
        "\n",
        "def f(x, noise_level=noise_level):\n",
        "    return np.sin(5 * x[0]) * (1 - np.tanh(x[0] ** 2)) + np.random.randn() * noise_level"
      ],
      "execution_count": 0,
      "outputs": []
    },
    {
      "metadata": {
        "id": "KSJtG_YUjoAF",
        "colab_type": "code",
        "colab": {
          "autoexec": {
            "startup": false,
            "wait_interval": 0
          },
          "output_extras": [
            {
              "item_id": 1
            }
          ],
          "base_uri": "https://localhost:8080/",
          "height": 265
        },
        "outputId": "c8f1c780-5451-41a9-c031-6ce59059b69d",
        "executionInfo": {
          "status": "ok",
          "timestamp": 1519091714320,
          "user_tz": 480,
          "elapsed": 548,
          "user": {
            "displayName": "Chester Holtz",
            "photoUrl": "https://lh3.googleusercontent.com/a/default-user=s128",
            "userId": "115263811033248709415"
          }
        }
      },
      "cell_type": "code",
      "source": [
        "# Plot f(x) + contours\n",
        "x = np.linspace(-2, 2, 400).reshape(-1, 1)\n",
        "fx = [f(x_i, noise_level=0.0) for x_i in x]\n",
        "plt.plot(x, fx, \"r--\", label=\"True (unknown)\")\n",
        "plt.fill(np.concatenate([x, x[::-1]]),\n",
        "         np.concatenate(([fx_i - 1.9600 * noise_level for fx_i in fx], \n",
        "                         [fx_i + 1.9600 * noise_level for fx_i in fx[::-1]])),\n",
        "         alpha=.2, fc=\"r\", ec=\"None\")\n",
        "plt.legend()\n",
        "plt.grid()\n",
        "plt.show()"
      ],
      "execution_count": 47,
      "outputs": [
        {
          "output_type": "display_data",
          "data": {
            "image/png": "[encoded data removed]",
            "text/plain": [
              "<matplotlib.figure.Figure at 0x7f018bf975c0>"
            ]
          },
          "metadata": {
            "tags": []
          }
        }
      ]
    },
    {
      "metadata": {
        "id": "AhVTRnl9ANjl",
        "colab_type": "text"
      },
      "cell_type": "markdown",
      "source": [
        "In the paper, the authors propose a piecewise linear upper bound to $f$ with $U(x) = min_{i=1,\\ldots,t} (f(x_i) + k||x-x_i||_2)$ for $t$ samples of $f$. One can then easily determine new samples to evaluate by finding the maximum of this upper bound."
      ]
    },
    {
      "metadata": {
        "id": "gCPOAuRllJWb",
        "colab_type": "text"
      },
      "cell_type": "markdown",
      "source": [
        "## LIPO loop\n",
        "\n",
        "**Input:** $n \\in \\mathbb{N}^*$, $k \\geq 0$, $\\chi \\subset \\mathbb{R}^d$, $f \\in Lip(k)$\n",
        "1.   **Initialization:** Let $X_1 ∼ U(X)$\n",
        "\n",
        "     Evaluate $f(X_1)$, $t \\rightarrow 1$\n",
        "\n",
        "2.   **Iterate:** Repeat while $t < n$:\n",
        "\n",
        "      Let $X_1 ∼ U(X)$\n",
        "\n",
        "      If $\\min_{i=1\\ldots t}(f(X_i) + k || X_{t+1} - X_i||_2) \\geq \\max_{i=1\\ldots t}f(X_i)$\n",
        "      \n",
        "      &nbsp;&nbsp;&nbsp;&nbsp;&nbsp;&nbsp;&nbsp;&nbsp;&nbsp;&nbsp;&nbsp;&nbsp;Evaluate $f(X_{t+1})$, $t \\rightarrow t+1$\n",
        "\n",
        "3.   **Output:** Return $X_{\\hat{l}_n}$ where $\\hat{l}_n \\in \\arg \\max_{i=1\\ldots n}f(X_i)$\n",
        "     \n",
        "\n",
        "\n",
        "\n"
      ]
    },
    {
      "metadata": {
        "id": "Y55PYJ8Ng6RO",
        "colab_type": "code",
        "colab": {
          "autoexec": {
            "startup": false,
            "wait_interval": 0
          }
        }
      },
      "cell_type": "code",
      "source": [
        "def lipo(n, k, X, f):\n",
        "    x_t = np.array([uniform(x[0],x[1]) for x in X])\n",
        "    f_t = []\n",
        "    f_t.append((x_t,f(x_t)))\n",
        "    t = 1\n",
        "    \n",
        "    while t < n:\n",
        "        x_t = np.array([uniform(x[0],x[1]) for x in X])\n",
        "        if min([f_i[1] + k*norm(x_t - f_i[0]) for f_i in f_t]) >= max(f_t, key = lambda i: i[1])[1]:\n",
        "            f_t.append((x_t,f(x_t)))\n",
        "            t = t + 1\n",
        "    return max(f_t, key = lambda i: i[1])"
      ],
      "execution_count": 0,
      "outputs": []
    },
    {
      "metadata": {
        "id": "2Fm0HzQTube0",
        "colab_type": "code",
        "colab": {
          "autoexec": {
            "startup": false,
            "wait_interval": 0
          },
          "output_extras": [
            {
              "item_id": 1
            }
          ],
          "base_uri": "https://localhost:8080/",
          "height": 35
        },
        "outputId": "b4ac6eb2-cdfa-408c-99f1-d02b9ee720db",
        "executionInfo": {
          "status": "ok",
          "timestamp": 1519091689326,
          "user_tz": 480,
          "elapsed": 239,
          "user": {
            "displayName": "Chester Holtz",
            "photoUrl": "https://lh3.googleusercontent.com/a/default-user=s128",
            "userId": "115263811033248709415"
          }
        }
      },
      "cell_type": "code",
      "source": [
        "n = 15\n",
        "X = [(-2,2)]\n",
        "print(lipo(n, k, X, f))"
      ],
      "execution_count": 45,
      "outputs": [
        {
          "output_type": "stream",
          "text": [
            "(array([-0.27649739]), 0.9374534133471826)\n"
          ],
          "name": "stdout"
        }
      ]
    },
    {
      "metadata": {
        "id": "95oQe-J9Nac9",
        "colab_type": "text"
      },
      "cell_type": "markdown",
      "source": [
        "## Estimating $k$\n",
        "The authors propose a simple way to estimate $k$ in the case that we do not know the Lipschitz constant prior to running the algorithm. To approximate $k$, they solve the following optimization problem for all observed points:\n",
        "\\begin{align}\n",
        "&\\min_{k\\in \\mathbb{Z}} k \\\\\n",
        "&\\text{st } \\max_{i,j}\\frac{|f(X_i) - f(X_j)|}{||X_i - X_j||_2} \\leq k\n",
        "\\end{align}"
      ]
    },
    {
      "metadata": {
        "id": "cHJ6qJMUc38d",
        "colab_type": "text"
      },
      "cell_type": "markdown",
      "source": [
        "## Adaptive LIPO (AdaLIPO)\n",
        "To incorporate the $k$ approximation into LIPO, the authors propose an adaptive procedure _Adapive LIPO_ (AdaLIPO) to jointly learn $k$ and optimize the objective $f$. Each iteration, we determine whether to _explore_ or _exploit_ by sampling from a binomial distribution with parameter $p$. In the exploration phase we sample a vector uniformly over the parameter space. In the exploitation phase we sample a vector .\n",
        "\n",
        "## AdaLIPO loop\n",
        "\n",
        "**Input:** $n \\in \\mathbb{N}^*$, $k \\geq 0$, $\\chi \\subset \\mathbb{R}^d$, $f \\in Lip(k)$\n",
        "1.   **Initialization:** Let $X_1 ∼ U(X)$\n",
        "\n",
        "     Evaluate $f(X_1)$, $t \\rightarrow 1$\n",
        "\n",
        "2.   **Iterate:** Repeat while $t < n\n",
        "\n",
        "      Let $B_{t+1} \\sim \\mathbb{B}(p)$\n",
        "\n",
        "      If $B_{t+1} = 1$ (Exploration)\n",
        "      \n",
        "      &nbsp;&nbsp;&nbsp;&nbsp;&nbsp;&nbsp;&nbsp;&nbsp;&nbsp;&nbsp;&nbsp;&nbsp;Let $X_1 \\sim U(X)$\n",
        "\n",
        "      If $B_{t+1} = 0$ (Exploitation)\n",
        "      \n",
        "      &nbsp;&nbsp;&nbsp;&nbsp;&nbsp;&nbsp;&nbsp;&nbsp;&nbsp;&nbsp;&nbsp;&nbsp;Let $X_1 \\sim U(X_{\\hat{k},t})$ where $X_{\\hat{k}_t,t}$ denotes the set of potential maximizers computed with $k$ set to $\\hat{k}_t$\n",
        "      \n",
        "      Evaluate $f(X_{t+1}),t \\leftarrow t+1$\n",
        "      \n",
        "      Let $\\hat{k}_t = \\inf\\{k_{i \\in \\mathbb{Z}}:\n",
        "      max_{i \\not = j}\\frac{|f(X_i) - f(X_j)|}{||X_i - X_j||_2} \\leq k_i\\}$\n",
        "\n",
        "3.   **Output:** Return $X_{\\hat{l}_n}$ where $\\hat{l}_n \\in \\arg \\max_{i=1\\ldots n}f(X_i)$"
      ]
    },
    {
      "metadata": {
        "id": "5crMdRtXnGU7",
        "colab_type": "code",
        "colab": {
          "autoexec": {
            "startup": false,
            "wait_interval": 0
          }
        }
      },
      "cell_type": "code",
      "source": [
        "def adalipo(n, k, X, f):\n",
        "    x_t = np.array([uniform(x[0],x[1]) for x in X])\n",
        "    f_t = []\n",
        "    f_t.append((x_t,f(x_t)))\n",
        "    t = 1\n",
        "    \n",
        "    while t < n:\n",
        "        x_t = np.array([uniform(x[0],x[1]) for x in X])\n",
        "        if min([f_i[1] + k*norm(x_t - f_i[0]) for f_i in f_t]) >= max(f_t, key = lambda i: i[1])[1]:\n",
        "            f_t.append((x_t,f(x_t)))\n",
        "            t = t + 1\n",
        "    return max(f_t, key = lambda i: i[1])"
      ],
      "execution_count": 0,
      "outputs": []
    },
    {
      "metadata": {
        "id": "kC_SVdMG45k3",
        "colab_type": "code",
        "colab": {
          "autoexec": {
            "startup": false,
            "wait_interval": 0
          },
          "output_extras": [
            {
              "item_id": 1
            }
          ],
          "base_uri": "https://localhost:8080/",
          "height": 35
        },
        "outputId": "9e2d116f-3153-4f1d-9f6d-1fb69df250e8",
        "executionInfo": {
          "status": "ok",
          "timestamp": 1519091177020,
          "user_tz": 480,
          "elapsed": 293,
          "user": {
            "displayName": "Chester Holtz",
            "photoUrl": "https://lh3.googleusercontent.com/a/default-user=s128",
            "userId": "115263811033248709415"
          }
        }
      },
      "cell_type": "code",
      "source": [
        "n = 15\n",
        "X = [(-2,2)]\n",
        "print(adalipo(n, k, X, f))"
      ],
      "execution_count": 39,
      "outputs": [
        {
          "output_type": "stream",
          "text": [
            "(array([0.27601493]), 1.0680783191592154)\n"
          ],
          "name": "stdout"
        }
      ]
    },
    {
      "metadata": {
        "id": "FveQPFK-49TI",
        "colab_type": "code",
        "colab": {
          "autoexec": {
            "startup": false,
            "wait_interval": 0
          }
        }
      },
      "cell_type": "code",
      "source": [
        ""
      ],
      "execution_count": 0,
      "outputs": []
    }
  ]
}